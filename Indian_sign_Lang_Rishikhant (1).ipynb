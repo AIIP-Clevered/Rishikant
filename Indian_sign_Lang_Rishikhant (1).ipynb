{
  "nbformat": 4,
  "nbformat_minor": 0,
  "metadata": {
    "colab": {
      "provenance": [],
      "gpuType": "T4"
    },
    "kernelspec": {
      "name": "python3",
      "display_name": "Python 3"
    },
    "language_info": {
      "name": "python"
    },
    "accelerator": "GPU",
    "widgets": {
      "application/vnd.jupyter.widget-state+json": {
        "27411487e3834a75b2a2810c0fd18e72": {
          "model_module": "@jupyter-widgets/controls",
          "model_name": "FileUploadModel",
          "model_module_version": "1.5.0",
          "state": {
            "_counter": 1,
            "_dom_classes": [],
            "_model_module": "@jupyter-widgets/controls",
            "_model_module_version": "1.5.0",
            "_model_name": "FileUploadModel",
            "_view_count": null,
            "_view_module": "@jupyter-widgets/controls",
            "_view_module_version": "1.5.0",
            "_view_name": "FileUploadView",
            "accept": "",
            "button_style": "",
            "data": [
              null
            ],
            "description": "Upload Sign Image",
            "description_tooltip": null,
            "disabled": false,
            "error": "",
            "icon": "upload",
            "layout": "IPY_MODEL_bda917df606046418c908b22822ca9d6",
            "metadata": [
              {
                "name": "116.jpg",
                "type": "image/jpeg",
                "size": 5699,
                "lastModified": 1703870618368
              }
            ],
            "multiple": false,
            "style": "IPY_MODEL_885a4d5d23974e308a8feec3affcef48"
          }
        },
        "bda917df606046418c908b22822ca9d6": {
          "model_module": "@jupyter-widgets/base",
          "model_name": "LayoutModel",
          "model_module_version": "1.2.0",
          "state": {
            "_model_module": "@jupyter-widgets/base",
            "_model_module_version": "1.2.0",
            "_model_name": "LayoutModel",
            "_view_count": null,
            "_view_module": "@jupyter-widgets/base",
            "_view_module_version": "1.2.0",
            "_view_name": "LayoutView",
            "align_content": null,
            "align_items": null,
            "align_self": null,
            "border": null,
            "bottom": null,
            "display": null,
            "flex": null,
            "flex_flow": null,
            "grid_area": null,
            "grid_auto_columns": null,
            "grid_auto_flow": null,
            "grid_auto_rows": null,
            "grid_column": null,
            "grid_gap": null,
            "grid_row": null,
            "grid_template_areas": null,
            "grid_template_columns": null,
            "grid_template_rows": null,
            "height": null,
            "justify_content": null,
            "justify_items": null,
            "left": null,
            "margin": null,
            "max_height": null,
            "max_width": null,
            "min_height": null,
            "min_width": null,
            "object_fit": null,
            "object_position": null,
            "order": null,
            "overflow": null,
            "overflow_x": null,
            "overflow_y": null,
            "padding": null,
            "right": null,
            "top": null,
            "visibility": null,
            "width": null
          }
        },
        "885a4d5d23974e308a8feec3affcef48": {
          "model_module": "@jupyter-widgets/controls",
          "model_name": "ButtonStyleModel",
          "model_module_version": "1.5.0",
          "state": {
            "_model_module": "@jupyter-widgets/controls",
            "_model_module_version": "1.5.0",
            "_model_name": "ButtonStyleModel",
            "_view_count": null,
            "_view_module": "@jupyter-widgets/base",
            "_view_module_version": "1.2.0",
            "_view_name": "StyleView",
            "button_color": null,
            "font_weight": ""
          }
        },
        "6eebf3d0a08f4bb997c34ac3620cbc54": {
          "model_module": "@jupyter-widgets/controls",
          "model_name": "ButtonModel",
          "model_module_version": "1.5.0",
          "state": {
            "_dom_classes": [],
            "_model_module": "@jupyter-widgets/controls",
            "_model_module_version": "1.5.0",
            "_model_name": "ButtonModel",
            "_view_count": null,
            "_view_module": "@jupyter-widgets/controls",
            "_view_module_version": "1.5.0",
            "_view_name": "ButtonView",
            "button_style": "",
            "description": "Check",
            "disabled": false,
            "icon": "",
            "layout": "IPY_MODEL_0631b2c6fa6e4417a56ec85a23b6cb0f",
            "style": "IPY_MODEL_17807f48fad64bf197c55945909abe01",
            "tooltip": ""
          }
        },
        "0631b2c6fa6e4417a56ec85a23b6cb0f": {
          "model_module": "@jupyter-widgets/base",
          "model_name": "LayoutModel",
          "model_module_version": "1.2.0",
          "state": {
            "_model_module": "@jupyter-widgets/base",
            "_model_module_version": "1.2.0",
            "_model_name": "LayoutModel",
            "_view_count": null,
            "_view_module": "@jupyter-widgets/base",
            "_view_module_version": "1.2.0",
            "_view_name": "LayoutView",
            "align_content": null,
            "align_items": null,
            "align_self": null,
            "border": null,
            "bottom": null,
            "display": null,
            "flex": null,
            "flex_flow": null,
            "grid_area": null,
            "grid_auto_columns": null,
            "grid_auto_flow": null,
            "grid_auto_rows": null,
            "grid_column": null,
            "grid_gap": null,
            "grid_row": null,
            "grid_template_areas": null,
            "grid_template_columns": null,
            "grid_template_rows": null,
            "height": null,
            "justify_content": null,
            "justify_items": null,
            "left": null,
            "margin": null,
            "max_height": null,
            "max_width": null,
            "min_height": null,
            "min_width": null,
            "object_fit": null,
            "object_position": null,
            "order": null,
            "overflow": null,
            "overflow_x": null,
            "overflow_y": null,
            "padding": null,
            "right": null,
            "top": null,
            "visibility": null,
            "width": null
          }
        },
        "17807f48fad64bf197c55945909abe01": {
          "model_module": "@jupyter-widgets/controls",
          "model_name": "ButtonStyleModel",
          "model_module_version": "1.5.0",
          "state": {
            "_model_module": "@jupyter-widgets/controls",
            "_model_module_version": "1.5.0",
            "_model_name": "ButtonStyleModel",
            "_view_count": null,
            "_view_module": "@jupyter-widgets/base",
            "_view_module_version": "1.2.0",
            "_view_name": "StyleView",
            "button_color": null,
            "font_weight": ""
          }
        },
        "561377e4858b4444b2b60245b0e8bc77": {
          "model_module": "@jupyter-widgets/output",
          "model_name": "OutputModel",
          "model_module_version": "1.0.0",
          "state": {
            "_dom_classes": [],
            "_model_module": "@jupyter-widgets/output",
            "_model_module_version": "1.0.0",
            "_model_name": "OutputModel",
            "_view_count": null,
            "_view_module": "@jupyter-widgets/output",
            "_view_module_version": "1.0.0",
            "_view_name": "OutputView",
            "layout": "IPY_MODEL_98d01a08fd024898897ae3a3cc5e30fa",
            "msg_id": "",
            "outputs": []
          }
        },
        "98d01a08fd024898897ae3a3cc5e30fa": {
          "model_module": "@jupyter-widgets/base",
          "model_name": "LayoutModel",
          "model_module_version": "1.2.0",
          "state": {
            "_model_module": "@jupyter-widgets/base",
            "_model_module_version": "1.2.0",
            "_model_name": "LayoutModel",
            "_view_count": null,
            "_view_module": "@jupyter-widgets/base",
            "_view_module_version": "1.2.0",
            "_view_name": "LayoutView",
            "align_content": null,
            "align_items": null,
            "align_self": null,
            "border": null,
            "bottom": null,
            "display": null,
            "flex": null,
            "flex_flow": null,
            "grid_area": null,
            "grid_auto_columns": null,
            "grid_auto_flow": null,
            "grid_auto_rows": null,
            "grid_column": null,
            "grid_gap": null,
            "grid_row": null,
            "grid_template_areas": null,
            "grid_template_columns": null,
            "grid_template_rows": null,
            "height": null,
            "justify_content": null,
            "justify_items": null,
            "left": null,
            "margin": null,
            "max_height": null,
            "max_width": null,
            "min_height": null,
            "min_width": null,
            "object_fit": null,
            "object_position": null,
            "order": null,
            "overflow": null,
            "overflow_x": null,
            "overflow_y": null,
            "padding": null,
            "right": null,
            "top": null,
            "visibility": null,
            "width": null
          }
        }
      }
    }
  },
  "cells": [
    {
      "cell_type": "code",
      "execution_count": 14,
      "metadata": {
        "colab": {
          "base_uri": "https://localhost:8080/"
        },
        "id": "UO4dESlCa00I",
        "outputId": "4654688d-61e2-48cc-ffde-0827437d731e"
      },
      "outputs": [
        {
          "metadata": {
            "tags": null
          },
          "name": "stdout",
          "output_type": "stream",
          "text": [
            "--2023-12-29 17:24:43--  https://confrecordings.ams3.cdn.digitaloceanspaces.com/Internship/Indian.zip\n",
            "Resolving confrecordings.ams3.cdn.digitaloceanspaces.com (confrecordings.ams3.cdn.digitaloceanspaces.com)... 104.18.12.192, 104.18.13.192, 2606:4700::6812:cc0, ...\n",
            "Connecting to confrecordings.ams3.cdn.digitaloceanspaces.com (confrecordings.ams3.cdn.digitaloceanspaces.com)|104.18.12.192|:443... connected.\n",
            "HTTP request sent, awaiting response... 200 OK\n",
            "Cookie coming from confrecordings.ams3.cdn.digitaloceanspaces.com attempted to set domain to digitaloceanspaces.com\n",
            "Length: 292770262 (279M) [application/x-zip-compressed]\n",
            "Saving to: ‘Indian.zip.1’\n",
            "\n",
            "Indian.zip.1        100%[===================>] 279.21M   165MB/s    in 1.7s    \n",
            "\n",
            "2023-12-29 17:24:45 (165 MB/s) - ‘Indian.zip.1’ saved [292770262/292770262]\n",
            "\n",
            "Archive:  Indian.zip\n",
            "replace Indian/1/0.jpg? [y]es, [n]o, [A]ll, [N]one, [r]ename: "
          ]
        }
      ],
      "source": [
        "# Download the zip file\n",
        "!wget https://confrecordings.ams3.cdn.digitaloceanspaces.com/Internship/Indian.zip\n",
        "\n",
        "# Unzip the downloaded file\n",
        "!unzip Indian.zip"
      ]
    },
    {
      "cell_type": "code",
      "source": [
        "import numpy as np\n",
        "import pandas as pd\n",
        "import os\n",
        "import seaborn as sns\n",
        "import matplotlib.pyplot as plt\n",
        "%matplotlib inline\n",
        "import cv2\n",
        "from sklearn.metrics import accuracy_score,precision_score,recall_score,confusion_matrix,roc_curve,roc_auc_score\n",
        "from sklearn.model_selection import train_test_split\n",
        "import tensorflow as tf\n",
        "from tensorflow import keras\n",
        "from keras import utils, callbacks\n",
        "from tensorflow.keras import utils\n",
        "from tensorflow.keras.models import Sequential\n",
        "from tensorflow.keras import layers, models\n",
        "from keras.layers import Flatten, Dense, Dropout\n",
        "from tensorflow.keras.optimizers import Adam\n",
        "from keras.losses import CategoricalCrossentropy\n",
        "import tensorflow as tf\n",
        "from tensorflow.keras.preprocessing.image import ImageDataGenerator\n",
        "from sklearn import metrics\n",
        "from tensorflow.keras.preprocessing import image\n",
        "from tensorflow.keras.preprocessing.image import load_img, img_to_array, array_to_img\n",
        "from tensorflow.keras.utils import to_categorical\n",
        "from sklearn.model_selection import train_test_split\n",
        "from glob import glob\n",
        "import sklearn"
      ],
      "metadata": {
        "id": "Kw-f8_eAbMaE"
      },
      "execution_count": 15,
      "outputs": []
    },
    {
      "cell_type": "code",
      "source": [
        "train_folder = '/content/Indian/'\n",
        "def load_images():\n",
        "    images = []\n",
        "    labels = []\n",
        "    index = -1\n",
        "    folders = sorted(os.listdir(train_folder))\n",
        "\n",
        "    for folder in folders:\n",
        "        index += 1\n",
        "\n",
        "        print(\"Loading images from folder \", folder ,\" has started.\")\n",
        "        for image in os.listdir(train_folder + '/' + folder):\n",
        "            img = cv2.imread(train_folder + '/' + folder + '/' + image, 0)\n",
        "            img = edge_detection(img)\n",
        "            img = cv2.resize(img, (64, 64))\n",
        "            img = img_to_array(img)\n",
        "            images.append(img)\n",
        "            labels.append(index)\n",
        "\n",
        "    images = np.array(images)\n",
        "    images = images.astype('float32')/255.0\n",
        "    labels = to_categorical(labels)\n",
        "\n",
        "    x_train, x_test, y_train, y_test = train_test_split(images, labels, test_size=0.1)\n",
        "\n",
        "    return x_train, x_test, y_train, y_test\n",
        "\n",
        "def edge_detection(image):\n",
        "    minValue = 70\n",
        "    blur = cv2.GaussianBlur(image,(5,5),2)\n",
        "    th3 = cv2.adaptiveThreshold(blur,255,cv2.ADAPTIVE_THRESH_GAUSSIAN_C,cv2.THRESH_BINARY_INV,11,2)\n",
        "    ret, res = cv2.threshold(th3, minValue, 255, cv2.THRESH_BINARY_INV+cv2.THRESH_OTSU)\n",
        "    return res"
      ],
      "metadata": {
        "id": "IUk1LnlGbbX_"
      },
      "execution_count": 16,
      "outputs": []
    },
    {
      "cell_type": "code",
      "source": [
        "x_train, x_test, y_train, y_test = load_images()"
      ],
      "metadata": {
        "id": "VGwM4HIEbsD_",
        "colab": {
          "base_uri": "https://localhost:8080/"
        },
        "outputId": "8a5a7840-de51-4225-b5ed-d7651632a02b"
      },
      "execution_count": 17,
      "outputs": [
        {
          "output_type": "stream",
          "name": "stdout",
          "text": [
            "Loading images from folder  1  has started.\n",
            "Loading images from folder  2  has started.\n",
            "Loading images from folder  3  has started.\n",
            "Loading images from folder  4  has started.\n",
            "Loading images from folder  5  has started.\n",
            "Loading images from folder  6  has started.\n",
            "Loading images from folder  7  has started.\n",
            "Loading images from folder  8  has started.\n",
            "Loading images from folder  9  has started.\n",
            "Loading images from folder  A  has started.\n",
            "Loading images from folder  B  has started.\n",
            "Loading images from folder  C  has started.\n",
            "Loading images from folder  D  has started.\n",
            "Loading images from folder  E  has started.\n",
            "Loading images from folder  F  has started.\n",
            "Loading images from folder  G  has started.\n",
            "Loading images from folder  H  has started.\n",
            "Loading images from folder  I  has started.\n",
            "Loading images from folder  J  has started.\n",
            "Loading images from folder  K  has started.\n",
            "Loading images from folder  L  has started.\n",
            "Loading images from folder  M  has started.\n",
            "Loading images from folder  N  has started.\n",
            "Loading images from folder  O  has started.\n",
            "Loading images from folder  P  has started.\n",
            "Loading images from folder  Q  has started.\n",
            "Loading images from folder  R  has started.\n",
            "Loading images from folder  S  has started.\n",
            "Loading images from folder  T  has started.\n",
            "Loading images from folder  U  has started.\n",
            "Loading images from folder  V  has started.\n",
            "Loading images from folder  W  has started.\n",
            "Loading images from folder  X  has started.\n",
            "Loading images from folder  Y  has started.\n",
            "Loading images from folder  Z  has started.\n"
          ]
        }
      ]
    },
    {
      "cell_type": "code",
      "source": [
        "from sklearn.utils import shuffle\n",
        "x_train, y_train = shuffle(x_train, y_train, random_state=13)\n",
        "x_test, y_test = shuffle(x_test, y_test, random_state=13)"
      ],
      "metadata": {
        "id": "ViZEMQCIb2KH"
      },
      "execution_count": null,
      "outputs": []
    },
    {
      "cell_type": "code",
      "source": [
        "model = Sequential([\n",
        "    layers.Conv2D(32, (3, 3), activation='relu', input_shape=(64, 64, 1)),\n",
        "    layers.MaxPool2D((2, 2)),\n",
        "    layers.Conv2D(64, (3, 3), activation='relu'),\n",
        "    layers.MaxPool2D((2, 2)),\n",
        "    layers.Conv2D(64, (3, 3), activation='relu'),\n",
        "    layers.MaxPool2D((2, 2)),\n",
        "    layers.Flatten(),\n",
        "    layers.Dense(128, activation='relu'),\n",
        "    layers.Dense(35, activation='softmax')\n",
        "])\n",
        "model.summary()"
      ],
      "metadata": {
        "id": "fRvQWooBb7cn"
      },
      "execution_count": null,
      "outputs": []
    },
    {
      "cell_type": "code",
      "source": [
        "map_characters = {0: '1', 1: '2', 2: '3', 3: '4', 4: '5', 5: '6', 6: '7', 7: '8', 8: '9', 9: 'A', 10: 'B', 11: 'C', 12: 'D',\n",
        "                  13: 'E', 14: 'F', 15: 'G', 16: 'H', 17: 'I', 18: 'J', 19: 'K', 20: 'L', 21: 'M', 22: 'N', 23: 'O', 24: 'P',\n",
        "                  25: 'Q', 26: 'R', 27: 'S', 28: 'T', 29: 'U', 30: 'V', 31: 'W', 32: 'X', 33: 'Y', 34: 'Z'}"
      ],
      "metadata": {
        "id": "rmB3S-qHcQr7"
      },
      "execution_count": null,
      "outputs": []
    },
    {
      "cell_type": "code",
      "source": [
        "classes = 35\n",
        "epochs = 3\n",
        "learning_rate = 0.0001\n",
        "\n",
        "adam = Adam(lr=learning_rate)\n",
        "model.compile(optimizer=adam, loss='categorical_crossentropy', metrics=['accuracy'])\n",
        "history = model.fit(x_train, y_train,\n",
        "                    epochs=epochs,\n",
        "                    verbose=1,\n",
        "                    validation_data=(x_test, y_test), shuffle=True)\n"
      ],
      "metadata": {
        "id": "2DDKUE5ychoJ",
        "colab": {
          "base_uri": "https://localhost:8080/"
        },
        "outputId": "0759d20c-5856-40bc-a0b8-ebc2c9a41f9a"
      },
      "execution_count": 21,
      "outputs": [
        {
          "output_type": "stream",
          "name": "stderr",
          "text": [
            "WARNING:absl:`lr` is deprecated in Keras optimizer, please use `learning_rate` or use the legacy optimizer, e.g.,tf.keras.optimizers.legacy.Adam.\n"
          ]
        },
        {
          "output_type": "stream",
          "name": "stdout",
          "text": [
            "Epoch 1/3\n",
            "1203/1203 [==============================] - 10s 7ms/step - loss: 0.1346 - accuracy: 0.9647 - val_loss: 2.0234e-04 - val_accuracy: 1.0000\n",
            "Epoch 2/3\n",
            "1203/1203 [==============================] - 7s 6ms/step - loss: 0.0063 - accuracy: 0.9982 - val_loss: 0.0107 - val_accuracy: 0.9965\n",
            "Epoch 3/3\n",
            "1203/1203 [==============================] - 8s 6ms/step - loss: 4.0091e-04 - accuracy: 0.9999 - val_loss: 6.3298e-05 - val_accuracy: 1.0000\n"
          ]
        }
      ]
    },
    {
      "cell_type": "code",
      "source": [
        "acc=history.history['accuracy']\n",
        "val_acc=history.history['val_accuracy']\n",
        "loss=history.history['loss']\n",
        "val_loss=history.history['val_loss']\n",
        "\n",
        "epochs=range(len(acc))\n",
        "\n",
        "fig = plt.figure(figsize=(14,7))\n",
        "plt.plot(epochs, acc, 'r', label=\"Training Accuracy\")\n",
        "plt.plot(epochs, val_acc, 'b', label=\"Validation Accuracy\")\n",
        "plt.xlabel('Epoch')\n",
        "plt.ylabel('Accuracy')\n",
        "plt.title('Training and validation accuracy')\n",
        "plt.legend(loc='lower right')\n",
        "plt.show()"
      ],
      "metadata": {
        "id": "bjnbfV2kcqGS",
        "colab": {
          "base_uri": "https://localhost:8080/",
          "height": 632
        },
        "outputId": "eabbfba2-7046-47c8-bd57-25343da5c7c5"
      },
      "execution_count": 22,
      "outputs": [
        {
          "output_type": "display_data",
          "data": {
            "text/plain": [
              "<Figure size 1400x700 with 1 Axes>"
            ],
            "image/png": "[encoded data removed]"
          },
          "metadata": {}
        }
      ]
    },
    {
      "cell_type": "code",
      "source": [
        "class_labels = list(map_characters.values())\n",
        "filename='Indian/4/1.jpg'\n",
        "img = cv2.imread(filename,0)\n",
        "print(img.shape)\n",
        "img = edge_detection(img)\n",
        "img = cv2.resize(img, (64, 64))\n",
        "print(img.shape)\n",
        "img = img_to_array(img)\n",
        "plt.imshow(img)\n",
        "\n",
        "p = img.reshape(1, 64, 64, 1)\n",
        "\n",
        "predicted_label = class_labels[model.predict(p).argmax()]\n",
        "print(predicted_label)"
      ],
      "metadata": {
        "id": "Czlqu8Urcu2Z",
        "colab": {
          "base_uri": "https://localhost:8080/",
          "height": 501
        },
        "outputId": "39201f22-b9f4-4ed2-deab-9dab8e71fc2e"
      },
      "execution_count": 23,
      "outputs": [
        {
          "output_type": "stream",
          "name": "stdout",
          "text": [
            "(128, 128)\n",
            "(64, 64)\n",
            "1/1 [==============================] - 0s 80ms/step\n",
            "4\n"
          ]
        },
        {
          "output_type": "display_data",
          "data": {
            "text/plain": [
              "<Figure size 640x480 with 1 Axes>"
            ],
            "image/png": "[encoded data removed]"
          },
          "metadata": {}
        }
      ]
    },
    {
      "cell_type": "code",
      "source": [
        "import ipywidgets as widgets\n",
        "from IPython.display import display, Markdown\n",
        "import io\n",
        "from PIL import Image\n",
        "import cv2\n",
        "import numpy as np\n",
        "import matplotlib.pyplot as plt\n",
        "\n",
        "# Create UI elements\n",
        "project_name = Markdown('# Sign Language Prediction')\n",
        "up_btn = Markdown('## Please upload the hand sign image using the upload button')\n",
        "upload_button = widgets.FileUpload(description='Upload Sign Image')\n",
        "cl_btn = Markdown('## Please click on the submit button')\n",
        "submit_button = widgets.Button(description='Check')\n",
        "output = widgets.Output()\n",
        "\n",
        "# Define submit button click event handler\n",
        "def on_submit_button_click(button):\n",
        "  with output:\n",
        "    if upload_button.value:\n",
        "      # Check if any files were uploaded\n",
        "      uploaded_files = list(upload_button.value.values())\n",
        "      if uploaded_files:\n",
        "        # Read the first uploaded image\n",
        "        image_bytes = uploaded_files[0]['content']\n",
        "        image = Image.open(io.BytesIO(image_bytes))\n",
        "        img = cv2.cvtColor(np.array(image), cv2.COLOR_RGB2GRAY)\n",
        "        img = edge_detection(img)\n",
        "        img = cv2.resize(img, (64, 64))\n",
        "        img = img / 255.0\n",
        "        plt.imshow(img, cmap='gray')\n",
        "        p = img.reshape(1, 64, 64, 1)\n",
        "        predicted_label = class_labels[model.predict(p).argmax()] # Replace with your class_labels\n",
        "        print('Predicted label:', predicted_label)\n",
        "        if predicted_label=='1':\n",
        "          print('This is Number One.')\n",
        "        elif predicted_label=='2':\n",
        "          print('This is Number Two.')\n",
        "        elif predicted_label=='3':\n",
        "          print('This is Number Three.')\n",
        "        elif predicted_label=='4':\n",
        "          print('This is Number Four.')\n",
        "        elif predicted_label=='5':\n",
        "          print('This is Number Five.')\n",
        "        elif predicted_label=='6':\n",
        "          print('This is Number Six.')\n",
        "        elif predicted_label=='7':\n",
        "          print('This is Number Seven.')\n",
        "        elif predicted_label=='8':\n",
        "          print('This is Number Eight.')\n",
        "        elif predicted_label=='9':\n",
        "          print('This is Number Nine.')\n",
        "        elif predicted_label=='A':\n",
        "          print('This is Letter A.')\n",
        "        elif predicted_label=='B':\n",
        "          print('This is Letter B.')\n",
        "        elif predicted_label=='C':\n",
        "          print('This is Letter C.')\n",
        "        elif predicted_label=='D':\n",
        "          print('This is Letter D.')\n",
        "        elif predicted_label=='E':\n",
        "          print('This is Letter E.')\n",
        "        elif predicted_label=='F':\n",
        "          print('This is Letter F.')\n",
        "        elif predicted_label=='G':\n",
        "          print('This is Letter G.')\n",
        "        elif predicted_label=='H':\n",
        "          print('This is Letter H.')\n",
        "        elif predicted_label=='I':\n",
        "          print('This is Letter I.')\n",
        "        elif predicted_label=='J':\n",
        "          print('This is Letter J.')\n",
        "        elif predicted_label=='K':\n",
        "          print('This is Letter K.')\n",
        "        elif predicted_label=='L':\n",
        "          print('This is Letter L.')\n",
        "        elif predicted_label=='M':\n",
        "          print('This is Letter M.')\n",
        "        elif predicted_label=='N':\n",
        "          print('This is Letter N.')\n",
        "        elif predicted_label=='O':\n",
        "          print('This is Letter O.')\n",
        "        elif predicted_label=='P':\n",
        "          print('This is Letter P.')\n",
        "        elif predicted_label=='Q':\n",
        "          print('This is Letter Q.')\n",
        "        elif predicted_label=='R':\n",
        "          print('This is Letter R.')\n",
        "        elif predicted_label=='S':\n",
        "          print('This is Letter S.')\n",
        "        elif predicted_label=='T':\n",
        "          print('This is Letter T.')\n",
        "        elif predicted_label=='U':\n",
        "          print('This is Letter U.')\n",
        "        elif predicted_label=='V':\n",
        "          print('This is Letter V.')\n",
        "        elif predicted_label=='W':\n",
        "          print('This is Letter W.')\n",
        "        elif predicted_label=='X':\n",
        "          print('This is Letter X.')\n",
        "        elif predicted_label=='Y':\n",
        "          print('This is Letter Y.')\n",
        "        elif predicted_label=='Z':\n",
        "          print('This is Letter Z.')\n",
        "        else:\n",
        "          print('Sign Not Detected')\n",
        "\n",
        "# Assign event handler to the submit button\n",
        "submit_button.on_click(on_submit_button_click)\n",
        "\n",
        "# Display UI elements\n",
        "display(project_name)\n",
        "display(up_btn)\n",
        "display(upload_button)\n",
        "display(cl_btn)\n",
        "display(submit_button)\n",
        "display(output)"
      ],
      "metadata": {
        "id": "4qUyH9xZjMfo",
        "colab": {
          "base_uri": "https://localhost:8080/",
          "height": 909,
          "referenced_widgets": [
            "27411487e3834a75b2a2810c0fd18e72",
            "bda917df606046418c908b22822ca9d6",
            "885a4d5d23974e308a8feec3affcef48",
            "6eebf3d0a08f4bb997c34ac3620cbc54",
            "0631b2c6fa6e4417a56ec85a23b6cb0f",
            "17807f48fad64bf197c55945909abe01",
            "561377e4858b4444b2b60245b0e8bc77",
            "98d01a08fd024898897ae3a3cc5e30fa"
          ]
        },
        "outputId": "d7ea76ff-58e4-468e-b108-99d5942116e6"
      },
      "execution_count": 24,
      "outputs": [
        {
          "data": {
            "text/markdown": "# Sign Language Prediction",
            "text/plain": [
              "<IPython.core.display.Markdown object>"
            ]
          },
          "metadata": {},
          "output_type": "display_data"
        },
        {
          "data": {
            "text/markdown": "## Please upload the hand sign image using the upload button",
            "text/plain": [
              "<IPython.core.display.Markdown object>"
            ]
          },
          "metadata": {},
          "output_type": "display_data"
        },
        {
          "data": {
            "application/vnd.jupyter.widget-view+json": {
              "model_id": "27411487e3834a75b2a2810c0fd18e72",
              "version_major": 2,
              "version_minor": 0
            },
            "text/plain": [
              "FileUpload(value={}, description='Upload Sign Image')"
            ]
          },
          "metadata": {},
          "output_type": "display_data"
        },
        {
          "data": {
            "text/markdown": "## Please click on the submit button",
            "text/plain": [
              "<IPython.core.display.Markdown object>"
            ]
          },
          "metadata": {},
          "output_type": "display_data"
        },
        {
          "data": {
            "application/vnd.jupyter.widget-view+json": {
              "model_id": "6eebf3d0a08f4bb997c34ac3620cbc54",
              "version_major": 2,
              "version_minor": 0
            },
            "text/plain": [
              "Button(description='Check', style=ButtonStyle())"
            ]
          },
          "metadata": {},
          "output_type": "display_data"
        },
        {
          "data": {
            "application/vnd.jupyter.widget-view+json": {
              "model_id": "561377e4858b4444b2b60245b0e8bc77",
              "version_major": 2,
              "version_minor": 0
            },
            "text/plain": [
              "Output()"
            ]
          },
          "metadata": {},
          "output_type": "display_data"
        },
        {
          "output_type": "display_data",
          "data": {
            "text/plain": [
              "<IPython.core.display.Markdown object>"
            ],
            "text/markdown": "# Sign Language Prediction"
          },
          "metadata": {}
        },
        {
          "output_type": "display_data",
          "data": {
            "text/plain": [
              "<IPython.core.display.Markdown object>"
            ],
            "text/markdown": "## Please upload the hand sign image using the upload button"
          },
          "metadata": {}
        },
        {
          "output_type": "display_data",
          "data": {
            "text/plain": [
              "FileUpload(value={}, description='Upload Sign Image')"
            ],
            "application/vnd.jupyter.widget-view+json": {
              "version_major": 2,
              "version_minor": 0,
              "model_id": "27411487e3834a75b2a2810c0fd18e72"
            }
          },
          "metadata": {}
        },
        {
          "output_type": "display_data",
          "data": {
            "text/plain": [
              "<IPython.core.display.Markdown object>"
            ],
            "text/markdown": "## Please click on the submit button"
          },
          "metadata": {}
        },
        {
          "output_type": "display_data",
          "data": {
            "text/plain": [
              "Button(description='Check', style=ButtonStyle())"
            ],
            "application/vnd.jupyter.widget-view+json": {
              "version_major": 2,
              "version_minor": 0,
              "model_id": "6eebf3d0a08f4bb997c34ac3620cbc54"
            }
          },
          "metadata": {}
        },
        {
          "output_type": "display_data",
          "data": {
            "text/plain": [
              "Output()"
            ],
            "application/vnd.jupyter.widget-view+json": {
              "version_major": 2,
              "version_minor": 0,
              "model_id": "561377e4858b4444b2b60245b0e8bc77"
            }
          },
          "metadata": {}
        },
        {
          "output_type": "stream",
          "name": "stdout",
          "text": [
            "1/1 [==============================] - 0s 78ms/step\n",
            "Predicted label: 1\n",
            "This is Number One.\n"
          ]
        },
        {
          "output_type": "display_data",
          "data": {
            "text/plain": [
              "<Figure size 640x480 with 1 Axes>"
            ],
            "image/png": "[encoded data removed]"
          },
          "metadata": {}
        }
      ]
    }
  ]
}